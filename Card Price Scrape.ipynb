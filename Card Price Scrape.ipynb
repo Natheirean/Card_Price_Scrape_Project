{
 "cells": [
  {
   "cell_type": "code",
   "execution_count": 1,
   "id": "22ad1476",
   "metadata": {},
   "outputs": [],
   "source": [
    "# Dependencies\n",
    "from bs4 import BeautifulSoup\n",
    "from splinter import Browser\n",
    "from webdriver_manager.chrome import ChromeDriverManager\n",
    "import time\n",
    "import psycopg2"
   ]
  },
  {
   "cell_type": "code",
   "execution_count": 2,
   "id": "091846f0",
   "metadata": {},
   "outputs": [
    {
     "name": "stderr",
     "output_type": "stream",
     "text": [
      "\n",
      "\n",
      "====== WebDriver manager ======\n",
      "Current google-chrome version is 96.0.4664\n",
      "Get LATEST chromedriver version for 96.0.4664 google-chrome\n",
      "Driver [C:\\Users\\deant\\.wdm\\drivers\\chromedriver\\win32\\96.0.4664.45\\chromedriver.exe] found in cache\n"
     ]
    },
    {
     "name": "stdout",
     "output_type": "stream",
     "text": [
      "Jace's Archivist success\n",
      "Aluren success\n",
      "Solemn Simulacrum success\n",
      "Villainous Wealth success\n",
      "Once Upon a Time success\n",
      "Nissa, Steward of Elements success\n",
      "Silent Arbiter success\n",
      "Gaze of Granite success\n",
      "Ashiok, Sculptor of Fears success\n",
      "Nyxbloom Ancient success\n",
      "Gilded Goose success\n",
      "Summoning Trap success\n",
      "Fervent Champion success\n",
      "Fires of Invention success\n",
      "Taranika, Akroan Veteran success\n",
      "Elspeth Conquers Death success\n",
      "Battlegrace Angel success\n",
      "Purphoros's Intervention success\n",
      "Hallowed Moonlight success\n",
      "Kunoros, Hound of Athreos success\n"
     ]
    }
   ],
   "source": [
    "base_url = \"https://www.cardkingdom.com/catalog/search?search=header&filter%5Bname%5D=\"\n",
    "cardlist = [\"Jace's Archivist\", \"Aluren\", \"Solemn Simulacrum\", \"Villainous Wealth\", \"Once Upon a Time\", \"Nissa, Steward of Elements\",\n",
    "           \"Silent Arbiter\", \"Gaze of Granite\", \"Ashiok, Sculptor of Fears\", \"Nyxbloom Ancient\", \"Gilded Goose\", \"Summoning Trap\",\n",
    "           \"Fervent Champion\", \"Fires of Invention\", \"Taranika, Akroan Veteran\", \"Elspeth Conquers Death\", \"Battlegrace Angel\", \n",
    "           \"Purphoros's Intervention\", \"Hallowed Moonlight\", \"Kunoros, Hound of Athreos\"]\n",
    "carddata= {}\n",
    "executable_path = {'executable_path': ChromeDriverManager().install()}\n",
    "browser = Browser('chrome', **executable_path, headless=True)\n",
    "for cardname in cardlist:\n",
    "    try:\n",
    "        searchname = cardname.replace(\" \", \"+\").replace(\",\", \"%2C\").replace(\"'\",\"%27\")\n",
    "        searchname\n",
    "        full_url = base_url + searchname\n",
    "        browser.visit(full_url)\n",
    "        time.sleep(2)\n",
    "        html = browser.html\n",
    "        soup = BeautifulSoup(html, 'html.parser')\n",
    "        price = soup.find('span', class_='stylePrice').text\n",
    "        cardset = soup.find('div', class_='productDetailSet').text.strip('\\n')\n",
    "        #PostgresSQL Does not like \" ' \" for update entries\n",
    "        carddata[cardname] = (cardname.replace(\"'\", \"\"), price, cardset)\n",
    "        print(f\"{cardname} success\")\n",
    "    except:\n",
    "        print(f\"{cardname} failed\")\n",
    "browser.quit()"
   ]
  },
  {
   "cell_type": "code",
   "execution_count": 3,
   "id": "4c37463c",
   "metadata": {},
   "outputs": [],
   "source": [
    "conn = psycopg2.connect(\"dbname=mtg_db user=postgres password=admin\")"
   ]
  },
  {
   "cell_type": "code",
   "execution_count": 4,
   "id": "a30efb64",
   "metadata": {
    "scrolled": false
   },
   "outputs": [],
   "source": [
    "conn.autocommit=True\n",
    "cur = conn.cursor()"
   ]
  },
  {
   "cell_type": "code",
   "execution_count": 5,
   "id": "4a012052",
   "metadata": {},
   "outputs": [],
   "source": [
    "sql = \"drop table cardkingdom_price;\"\n",
    "try:\n",
    "    cur.execute(sql)\n",
    "except:\n",
    "    pass"
   ]
  },
  {
   "cell_type": "code",
   "execution_count": 6,
   "id": "d099dafe",
   "metadata": {},
   "outputs": [],
   "source": [
    "sql1 = \"create table cardkingdom_price( \\\n",
    "card_name VARCHAR(50) NOT NULL, \\\n",
    "price money NOT NULL, \\\n",
    "card_set VARCHAR(50) NOT NULL);\"\n",
    "cur.execute(sql1)"
   ]
  },
  {
   "cell_type": "code",
   "execution_count": 7,
   "id": "2c459daa",
   "metadata": {},
   "outputs": [],
   "source": [
    "columns=carddata.keys()\n",
    "for i in carddata.values():\n",
    "    try:\n",
    "        sql2=\"insert into cardkingdom_price(card_name , price , card_set) VALUES{};\".format(i)\n",
    "        cur.execute(sql2)\n",
    "    except:\n",
    "        pass"
   ]
  },
  {
   "cell_type": "code",
   "execution_count": 8,
   "id": "f9a33d1c",
   "metadata": {},
   "outputs": [
    {
     "name": "stdout",
     "output_type": "stream",
     "text": [
      "('Jaces Archivist', '$3.99', 'Commander 2015 (R)')\n",
      "('Aluren', '$119.99', 'Tempest (R)')\n",
      "('Villainous Wealth', '$5.49', 'Promotional (R)')\n",
      "('Once Upon a Time', '$1.49', 'Throne of Eldraine (R)')\n",
      "('Nissa, Steward of Elements', '$22.99', 'Promotional (M)')\n",
      "('Silent Arbiter', '$2.29', 'Commander 2020 (R)')\n",
      "('Gaze of Granite', '$6.99', 'Promotional (S)')\n",
      "('Ashiok, Sculptor of Fears', '$4.49', 'Theros Beyond Death (M)')\n",
      "('Nyxbloom Ancient', '$20.99', 'Theros Beyond Death (M)')\n",
      "('Gilded Goose', '$2.49', 'Throne of Eldraine (R)')\n",
      "('Summoning Trap', '$0.29', 'Modern Masters 2017 (R)')\n",
      "('Fervent Champion', '$0.35', 'Throne of Eldraine (R)')\n",
      "('Fires of Invention', '$1.49', 'Throne of Eldraine Variants (R)')\n",
      "('Taranika, Akroan Veteran', '$0.25', 'Theros Beyond Death (R)')\n",
      "('Elspeth Conquers Death', '$0.35', 'Theros Beyond Death (R)')\n",
      "('Battlegrace Angel', '$0.49', 'Shards of Alara (R)')\n",
      "('Purphoross Intervention', '$0.35', 'Theros Beyond Death (R)')\n",
      "('Hallowed Moonlight', '$0.25', 'Magic Origins (R)')\n",
      "('Kunoros, Hound of Athreos', '$0.79', 'Theros Beyond Death (R)')\n"
     ]
    }
   ],
   "source": [
    "sql3 = \"select * from cardkingdom_price;\"\n",
    "cur.execute(sql3)\n",
    "for i in cur.fetchall():\n",
    "    print(i)"
   ]
  },
  {
   "cell_type": "code",
   "execution_count": 9,
   "id": "cedb0320",
   "metadata": {},
   "outputs": [],
   "source": [
    "conn.close()"
   ]
  },
  {
   "cell_type": "code",
   "execution_count": 10,
   "id": "eb702e0f",
   "metadata": {},
   "outputs": [
    {
     "name": "stderr",
     "output_type": "stream",
     "text": [
      "\n",
      "\n",
      "====== WebDriver manager ======\n",
      "Current google-chrome version is 96.0.4664\n",
      "Get LATEST chromedriver version for 96.0.4664 google-chrome\n",
      "Driver [C:\\Users\\deant\\.wdm\\drivers\\chromedriver\\win32\\96.0.4664.45\\chromedriver.exe] found in cache\n"
     ]
    },
    {
     "name": "stdout",
     "output_type": "stream",
     "text": [
      "Jace's Archivist success\n",
      "Aluren success\n",
      "Solemn Simulacrum success\n",
      "Villainous Wealth success\n",
      "Once Upon a Time success\n",
      "Nissa, Steward of Elements success\n",
      "Silent Arbiter success\n",
      "Gaze of Granite success\n",
      "Ashiok, Sculptor of Fears success\n",
      "Nyxbloom Ancient success\n",
      "Gilded Goose success\n",
      "Summoning Trap success\n",
      "Fervent Champion success\n",
      "Fires of Invention success\n",
      "Taranika, Akroan Veteran success\n",
      "Elspeth Conquers Death success\n",
      "Battlegrace Angel success\n",
      "Purphoros's Intervention success\n",
      "Hallowed Moonlight success\n",
      "Kunoros, Hound of Athreos success\n"
     ]
    }
   ],
   "source": [
    "base_url = \"https://www.tcgplayer.com/search/magic/product?productLineName=magic&q=\"\n",
    "cardlist = [\"Jace's Archivist\", \"Aluren\", \"Solemn Simulacrum\", \"Villainous Wealth\", \"Once Upon a Time\", \"Nissa, Steward of Elements\",\n",
    "           \"Silent Arbiter\", \"Gaze of Granite\", \"Ashiok, Sculptor of Fears\", \"Nyxbloom Ancient\", \"Gilded Goose\", \"Summoning Trap\",\n",
    "           \"Fervent Champion\", \"Fires of Invention\", \"Taranika, Akroan Veteran\", \"Elspeth Conquers Death\", \"Battlegrace Angel\", \n",
    "           \"Purphoros's Intervention\", \"Hallowed Moonlight\", \"Kunoros, Hound of Athreos\"]\n",
    "carddata= {}\n",
    "executable_path = {'executable_path': ChromeDriverManager().install()}\n",
    "browser = Browser('chrome', **executable_path, headless=True)\n",
    "for cardname in cardlist:\n",
    "    try:\n",
    "        searchname = cardname.replace(\" \", \"%20\").replace(\"'\",\"%27\")\n",
    "        searchname\n",
    "        full_url = base_url + searchname + \"&view=grid\"\n",
    "        browser.visit(full_url)\n",
    "        time.sleep(2)\n",
    "        html = browser.html\n",
    "        soup = BeautifulSoup(html, 'html.parser')\n",
    "        price = soup.find('span', class_=\"search-result__market-price--value\").text\n",
    "        cardset = soup.find('span', class_=\"search-result__subtitle\").text.strip('\\n')\n",
    "        #PostgresSQL Does not like \" ' \" for update entries\n",
    "        carddata[cardname] = (cardname.replace(\"'\", \"\"), price, cardset)\n",
    "        print(f\"{cardname} success\")\n",
    "    except:\n",
    "        print(f\"{cardname} failed\")\n",
    "browser.quit()"
   ]
  },
  {
   "cell_type": "code",
   "execution_count": 11,
   "id": "55466703",
   "metadata": {},
   "outputs": [],
   "source": [
    "conn = psycopg2.connect(\"dbname=mtg_db user=postgres password=admin\")"
   ]
  },
  {
   "cell_type": "code",
   "execution_count": 12,
   "id": "cfefd9e5",
   "metadata": {},
   "outputs": [],
   "source": [
    "conn.autocommit=True\n",
    "cur = conn.cursor()"
   ]
  },
  {
   "cell_type": "code",
   "execution_count": 13,
   "id": "8d19b6c5",
   "metadata": {},
   "outputs": [],
   "source": [
    "sql4 = \"drop table tcgplayer_price;\"\n",
    "try:\n",
    "    cur.execute(sql4)\n",
    "except:\n",
    "    pass"
   ]
  },
  {
   "cell_type": "code",
   "execution_count": 14,
   "id": "243ac77e",
   "metadata": {},
   "outputs": [],
   "source": [
    "sql5 = \"create table tcgplayer_price( card_name VARCHAR(50) NOT NULL, price money NOT NULL, card_set VARCHAR(50) NOT NULL);\"\n",
    "cur.execute(sql5)"
   ]
  },
  {
   "cell_type": "code",
   "execution_count": 15,
   "id": "e89119bc",
   "metadata": {},
   "outputs": [],
   "source": [
    "columns=carddata.keys()\n",
    "for i in carddata.values():\n",
    "    try:\n",
    "        sql6=\"insert into tcgplayer_price(card_name , price , card_set) VALUES{};\".format(i)\n",
    "        cur.execute(sql6)\n",
    "    except:\n",
    "        pass"
   ]
  },
  {
   "cell_type": "code",
   "execution_count": 16,
   "id": "8ba1c1bd",
   "metadata": {},
   "outputs": [
    {
     "name": "stdout",
     "output_type": "stream",
     "text": [
      "('Jaces Archivist', '$4.41', ' Magic 2012 (M12) ')\n",
      "('Aluren', '$103.63', ' Tempest ')\n",
      "('Solemn Simulacrum', '$2.12', ' Promo Pack: Core Set 2021 ')\n",
      "('Villainous Wealth', '$7.41', ' Prerelease Cards ')\n",
      "('Once Upon a Time', '$3.75', ' Prerelease Cards ')\n",
      "('Nissa, Steward of Elements', '$1.20', ' Commander 2020 ')\n",
      "('Silent Arbiter', '$3.02', ' Fifth Dawn ')\n",
      "('Gaze of Granite', '$0.19', ' Commander 2020 ')\n",
      "('Ashiok, Sculptor of Fears', '$2.06', ' Theros Beyond Death ')\n",
      "('Nyxbloom Ancient', '$16.39', ' Theros Beyond Death ')\n",
      "('Gilded Goose', '$1.70', ' Promo Pack: Throne of Eldraine ')\n",
      "('Summoning Trap', '$0.23', ' Zendikar ')\n",
      "('Fervent Champion', '$0.19', ' Throne of Eldraine ')\n",
      "('Fires of Invention', '$1.36', ' Prerelease Cards ')\n",
      "('Taranika, Akroan Veteran', '$0.11', ' Theros Beyond Death ')\n",
      "('Elspeth Conquers Death', '$0.23', ' Theros Beyond Death ')\n",
      "('Battlegrace Angel', '$0.63', ' Shards of Alara ')\n",
      "('Purphoross Intervention', '$0.30', ' Promo Pack: Theros Beyond Death ')\n",
      "('Hallowed Moonlight', '$0.23', ' Magic Origins ')\n",
      "('Kunoros, Hound of Athreos', '$1.55', ' Prerelease Cards ')\n"
     ]
    }
   ],
   "source": [
    "sql7 = \"select * from tcgplayer_price;\"\n",
    "cur.execute(sql7)\n",
    "for i in cur.fetchall():\n",
    "    print(i)"
   ]
  },
  {
   "cell_type": "code",
   "execution_count": 17,
   "id": "d32ebc68",
   "metadata": {},
   "outputs": [
    {
     "name": "stdout",
     "output_type": "stream",
     "text": [
      "('Jaces Archivist', '$3.99', '$4.41')\n",
      "('Aluren', '$119.99', '$103.63')\n",
      "('Villainous Wealth', '$5.49', '$7.41')\n",
      "('Once Upon a Time', '$1.49', '$3.75')\n",
      "('Nissa, Steward of Elements', '$22.99', '$1.20')\n",
      "('Silent Arbiter', '$2.29', '$3.02')\n",
      "('Gaze of Granite', '$6.99', '$0.19')\n",
      "('Ashiok, Sculptor of Fears', '$4.49', '$2.06')\n",
      "('Nyxbloom Ancient', '$20.99', '$16.39')\n",
      "('Gilded Goose', '$2.49', '$1.70')\n",
      "('Summoning Trap', '$0.29', '$0.23')\n",
      "('Fervent Champion', '$0.35', '$0.19')\n",
      "('Fires of Invention', '$1.49', '$1.36')\n",
      "('Taranika, Akroan Veteran', '$0.25', '$0.11')\n",
      "('Elspeth Conquers Death', '$0.35', '$0.23')\n",
      "('Battlegrace Angel', '$0.49', '$0.63')\n",
      "('Purphoross Intervention', '$0.35', '$0.30')\n",
      "('Hallowed Moonlight', '$0.25', '$0.23')\n",
      "('Kunoros, Hound of Athreos', '$0.79', '$1.55')\n"
     ]
    }
   ],
   "source": [
    "sql8 = \"select cardkingdom_price.card_name, cardkingdom_price.price, tcgplayer_price.price from cardkingdom_price \\\n",
    "join tcgplayer_price using (card_name);\"\n",
    "cur.execute(sql8)\n",
    "for i in cur.fetchall():\n",
    "    print(i)"
   ]
  },
  {
   "cell_type": "code",
   "execution_count": 18,
   "id": "3458ffb8",
   "metadata": {},
   "outputs": [],
   "source": [
    "conn.close()"
   ]
  }
 ],
 "metadata": {
  "kernelspec": {
   "display_name": "Python 3",
   "language": "python",
   "name": "python3"
  },
  "language_info": {
   "codemirror_mode": {
    "name": "ipython",
    "version": 3
   },
   "file_extension": ".py",
   "mimetype": "text/x-python",
   "name": "python",
   "nbconvert_exporter": "python",
   "pygments_lexer": "ipython3",
   "version": "3.8.8"
  }
 },
 "nbformat": 4,
 "nbformat_minor": 5
}
