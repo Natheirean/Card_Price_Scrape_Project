{
 "cells": [
  {
   "cell_type": "code",
   "execution_count": 3,
   "id": "c17583da",
   "metadata": {},
   "outputs": [],
   "source": [
    "# Dependencies\n",
    "from bs4 import BeautifulSoup\n",
    "import requests\n",
    "import os\n",
    "from splinter import Browser\n",
    "from webdriver_manager.chrome import ChromeDriverManager\n",
    "import time\n",
    "import psycopg2"
   ]
  },
  {
   "cell_type": "code",
   "execution_count": 2,
   "id": "fd4a22bf",
   "metadata": {},
   "outputs": [
    {
     "name": "stderr",
     "output_type": "stream",
     "text": [
      "\n",
      "\n",
      "====== WebDriver manager ======\n",
      "Current google-chrome version is 96.0.4664\n",
      "Get LATEST chromedriver version for 96.0.4664 google-chrome\n",
      "Driver [C:\\Users\\deant\\.wdm\\drivers\\chromedriver\\win32\\96.0.4664.45\\chromedriver.exe] found in cache\n"
     ]
    }
   ],
   "source": [
    "base_url = \"https://www.cardkingdom.com/catalog/search?search=header&filter%5Bname%5D=\"\n",
    "cardlist = [\"Jace's Archivist\", \"Aluren\", \"Solemn Simulacrum\", \"Villainous Wealth\", \"Once Upon a Time\", \"Nissa, Steward of Elements\",\n",
    "           \"Silent Arbiter\", \"Gaze of Granite\", \"Ashiok, Sculptor of Fears\", \"Nyxbloom Ancient\", \"Gilded Goose\", \"Summoning Trap\",\n",
    "           \"Fervent Champion\", \"Fires of Invention\", \"Taranika, Akroan Veteran\", \"Elspeth Conquers Death\", \"Battlegrace Angel\", \n",
    "           \"Purphoros's Intervention\", \"Hallowed Moonlight\", \"Kunoros, Hound of Athreos\"]\n",
    "carddata= []\n",
    "executable_path = {'executable_path': ChromeDriverManager().install()}\n",
    "browser = Browser('chrome', **executable_path, headless=True)\n",
    "for cardname in cardlist:\n",
    "    try:\n",
    "        searchname = cardname.replace(\" \", \"+\").replace(\",\", \"%2C\").replace(\"'\",\"%27\")\n",
    "        searchname\n",
    "        full_url = base_url + searchname\n",
    "        browser.visit(full_url)\n",
    "        time.sleep(5)\n",
    "        html = browser.html\n",
    "        soup = BeautifulSoup(html, 'html.parser')\n",
    "        price = soup.find('span', class_='stylePrice').text\n",
    "        cardset = soup.find('div', class_='productDetailSet').text.strip('\\n')\n",
    "        full_card_data = {'card_name': cardname,\n",
    "                         'price': price,\n",
    "                         'card_set':cardset}\n",
    "        carddata.append(full_card_data)\n",
    "        print(f\"{cardname} success\")\n",
    "    except:\n",
    "        print(f\"{cardname} failed\")\n",
    "browser.quit()"
   ]
  },
  {
   "cell_type": "code",
   "execution_count": null,
   "id": "2a2946ec",
   "metadata": {},
   "outputs": [],
   "source": [
    "carddata"
   ]
  },
  {
   "cell_type": "code",
   "execution_count": 4,
   "id": "153f737b",
   "metadata": {
    "scrolled": false
   },
   "outputs": [],
   "source": [
    "conn = psycopg2.connect(\"dbname=mtg_db user=postgres password=admin\")"
   ]
  },
  {
   "cell_type": "code",
   "execution_count": 5,
   "id": "93fb0b17",
   "metadata": {},
   "outputs": [],
   "source": [
    "cur = conn.cursor()"
   ]
  },
  {
   "cell_type": "code",
   "execution_count": null,
   "id": "a69931f6",
   "metadata": {},
   "outputs": [],
   "source": []
  },
  {
   "cell_type": "code",
   "execution_count": null,
   "id": "dc4f05e4",
   "metadata": {},
   "outputs": [],
   "source": [
    "conn.close()"
   ]
  },
  {
   "cell_type": "code",
   "execution_count": null,
   "id": "879f5e7b",
   "metadata": {},
   "outputs": [],
   "source": []
  },
  {
   "cell_type": "code",
   "execution_count": null,
   "id": "8ce04c91",
   "metadata": {},
   "outputs": [],
   "source": []
  },
  {
   "cell_type": "code",
   "execution_count": null,
   "id": "0e60d8f1",
   "metadata": {},
   "outputs": [],
   "source": []
  },
  {
   "cell_type": "code",
   "execution_count": null,
   "id": "70acb77e",
   "metadata": {},
   "outputs": [],
   "source": []
  }
 ],
 "metadata": {
  "kernelspec": {
   "display_name": "Python 3",
   "language": "python",
   "name": "python3"
  },
  "language_info": {
   "codemirror_mode": {
    "name": "ipython",
    "version": 3
   },
   "file_extension": ".py",
   "mimetype": "text/x-python",
   "name": "python",
   "nbconvert_exporter": "python",
   "pygments_lexer": "ipython3",
   "version": "3.8.8"
  }
 },
 "nbformat": 4,
 "nbformat_minor": 5
}
